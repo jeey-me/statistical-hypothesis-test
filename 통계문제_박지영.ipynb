{
 "cells": [
  {
   "cell_type": "markdown",
   "id": "bc3d0fe2",
   "metadata": {},
   "source": [
    "# 기초통계 및 검정통계 마무리 문제 \n",
    "[문제상황]\n",
    "한 IT 기업의 웹 서비스 운영팀은 사용자 경험을 향상시키기 위해 웹사이트의 콘텐츠 로딩 속도를\n",
    "개선하고자 합니다.  \n",
    "이를 위해 세 곳의 주요 CDN 서비스 제공자(A사, B사, C사)를 후보로 고려하고있습니다.  \n",
    "운영팀은 각 CDN 서비스를 동일한 웹사이트에 임시 적용하고, 특정 지역(예: 대한민국 서울) 사용자를 대상으로 페이지 로드 시간을 여러 차례 측정하여   \n",
    "어떤 CDN 제공자가 평균적으로 가장 빠른 로드 속도를 제공하는지 비교 분석하기로 했습니다.    \n",
    "그룹 A: A사 CDN을 사용했을 때의 페이지 로드 시간 (ms)  \n",
    "그룹 B: B사 CDN을 사용했을 때의 페이지 로드 시간 (ms)  \n",
    "그룹 C: C사 CDN을 사용했을 때의 페이지 로드 시간 (ms)  \n",
    "운영팀은 세 CDN 제공자 간 평균 페이지 로드 시간에 통계적으로 유의미한 차이가 있는지 확인하여,    \n",
    "성능 데이터를 기반으로 최적의 CDN 제공자를 선택하는 데 도움을 받고자 합니다.  \n",
    "제공되는 데이터는 각 CDN 제공자별로 100회의 페이지 로드 시간을 측정한 데이터입니다.  \n",
    "데이터 파일 : cdn_page_load_times.csv"
   ]
  },
  {
   "cell_type": "markdown",
   "id": "b322ffb3",
   "metadata": {},
   "source": [
    "### 1. 데이터를 로딩하세요. (20점)"
   ]
  },
  {
   "cell_type": "code",
   "execution_count": 1,
   "id": "5babf0cf",
   "metadata": {},
   "outputs": [],
   "source": [
    "# pandas import\n",
    "import pandas as pd"
   ]
  },
  {
   "cell_type": "code",
   "execution_count": 5,
   "id": "287d9d35",
   "metadata": {},
   "outputs": [
    {
     "data": {
      "text/html": [
       "<div>\n",
       "<style scoped>\n",
       "    .dataframe tbody tr th:only-of-type {\n",
       "        vertical-align: middle;\n",
       "    }\n",
       "\n",
       "    .dataframe tbody tr th {\n",
       "        vertical-align: top;\n",
       "    }\n",
       "\n",
       "    .dataframe thead th {\n",
       "        text-align: right;\n",
       "    }\n",
       "</style>\n",
       "<table border=\"1\" class=\"dataframe\">\n",
       "  <thead>\n",
       "    <tr style=\"text-align: right;\">\n",
       "      <th></th>\n",
       "      <th>CDN_A</th>\n",
       "      <th>CDN_B</th>\n",
       "      <th>CDN_C</th>\n",
       "    </tr>\n",
       "  </thead>\n",
       "  <tbody>\n",
       "    <tr>\n",
       "      <th>0</th>\n",
       "      <td>103.115543</td>\n",
       "      <td>102.342433</td>\n",
       "      <td>98.371838</td>\n",
       "    </tr>\n",
       "    <tr>\n",
       "      <th>1</th>\n",
       "      <td>94.341060</td>\n",
       "      <td>118.835131</td>\n",
       "      <td>86.193353</td>\n",
       "    </tr>\n",
       "    <tr>\n",
       "      <th>2</th>\n",
       "      <td>114.586739</td>\n",
       "      <td>104.359728</td>\n",
       "      <td>79.047870</td>\n",
       "    </tr>\n",
       "    <tr>\n",
       "      <th>3</th>\n",
       "      <td>156.155017</td>\n",
       "      <td>90.357875</td>\n",
       "      <td>63.730201</td>\n",
       "    </tr>\n",
       "    <tr>\n",
       "      <th>4</th>\n",
       "      <td>156.920524</td>\n",
       "      <td>75.013771</td>\n",
       "      <td>116.655484</td>\n",
       "    </tr>\n",
       "  </tbody>\n",
       "</table>\n",
       "</div>"
      ],
      "text/plain": [
       "        CDN_A       CDN_B       CDN_C\n",
       "0  103.115543  102.342433   98.371838\n",
       "1   94.341060  118.835131   86.193353\n",
       "2  114.586739  104.359728   79.047870\n",
       "3  156.155017   90.357875   63.730201\n",
       "4  156.920524   75.013771  116.655484"
      ]
     },
     "execution_count": 5,
     "metadata": {},
     "output_type": "execute_result"
    }
   ],
   "source": [
    "# 데이터 불러오기 및 확인 \n",
    "df = pd.read_csv(\"cdn_page_load_times.csv\", encoding='utf-8')\n",
    "df.head()"
   ]
  },
  {
   "cell_type": "code",
   "execution_count": 6,
   "id": "d2a648d9",
   "metadata": {},
   "outputs": [],
   "source": [
    "# 데이터 분할 (결측이 포함되어 있을 수 있으므로 dropna를 사용)\n",
    "A = df[\"CDN_A\"].dropna().values\n",
    "B = df[\"CDN_B\"].dropna().values\n",
    "C = df[\"CDN_C\"].dropna().values"
   ]
  },
  {
   "cell_type": "code",
   "execution_count": 7,
   "id": "a41c09f9",
   "metadata": {},
   "outputs": [
    {
     "data": {
      "image/png": "[encoded data removed]",
      "text/plain": [
       "<Figure size 500x500 with 1 Axes>"
      ]
     },
     "metadata": {},
     "output_type": "display_data"
    }
   ],
   "source": [
    "# 박스플롯으로 시각화 \n",
    "from matplotlib import pyplot as plt\n",
    "plt.rcParams[\"font.family\"] = \"Malgun Gothic\" #한글이 깨지지 않기위해서는 꼭 폰트지정해야함\n",
    "plt.rcParams[\"font.size\"] = 20\n",
    "plt.rcParams[\"figure.figsize\"] = (5,5)\n",
    "plt.boxplot([A, B, C])\n",
    "plt.xticks([1, 2, 3], [\"CDN_A\",\"CDN_B\",\"CDN_C\"])\n",
    "plt.show()"
   ]
  },
  {
   "cell_type": "markdown",
   "id": "f83a61a1",
   "metadata": {},
   "source": [
    "### 2. 데이터를 분석하기에 적합한 가설검정 방법을 선택하세요. (20점)"
   ]
  },
  {
   "cell_type": "markdown",
   "id": "238e65f2",
   "metadata": {},
   "source": [
    "일원분산분석  \n",
    "-독립변수 : CDN 제공자 (A사, B사, C사 → 3개의 그룹)  \n",
    "-종속변수 : 페이지 로드 시간 (ms)  \n",
    "세개의 서로 다른 cdn 제공자가 제공하는 평균 페이지 로드 시간이 통계적으로 유의미하게 다른지 파악하고자 하는 문제이기 때문에 일원분산분석을 활용해 검정하고자 함. "
   ]
  },
  {
   "cell_type": "markdown",
   "id": "69032609",
   "metadata": {},
   "source": [
    "### 3. 선택한 가설검정 방법을 수행하기 위해 데이터의 전제조건에 부합하는지 확인하고, 결과를 해석하시오. (예: 정규성 검정, 등분산성 검정 등)(20점)"
   ]
  },
  {
   "cell_type": "markdown",
   "id": "80799e57",
   "metadata": {},
   "source": [
    "- 정규성 검정 : shapiro-wilk 검정"
   ]
  },
  {
   "cell_type": "code",
   "execution_count": 15,
   "id": "4fa11fae",
   "metadata": {},
   "outputs": [
    {
     "name": "stdout",
     "output_type": "stream",
     "text": [
      "ShapiroResult(statistic=np.float64(0.9940977465531138), pvalue=np.float64(0.9446069376138456))\n",
      "ShapiroResult(statistic=np.float64(0.9898981527862001), pvalue=np.float64(0.6563609451801026))\n",
      "ShapiroResult(statistic=np.float64(0.9821121731681786), pvalue=np.float64(0.19351085781526473))\n"
     ]
    }
   ],
   "source": [
    "from scipy import stats\n",
    "print(stats.shapiro(A-B))\n",
    "print(stats.shapiro(A-C))\n",
    "print(stats.shapiro(B-C)) "
   ]
  },
  {
   "cell_type": "markdown",
   "id": "b99d629c",
   "metadata": {},
   "source": [
    "  [정규성 검정 결과 해석]  \n",
    "  귀무가설 : 데이터가 정규분포를 따른다.  \n",
    "  대립가설 : 데이터가 정규분포를 따르지 않는다.  \n",
    "  판단기준 : p-value가 0.05보다 크면 귀무가설을 채택 == 정규분포를 따른다 . \n",
    "\n",
    "1) A사 : p-value = 0.9446 > 0.05   \n",
    "2) B사 : p-value = 0.6564 > 0.05   \n",
    "3) C사 : p-value = 0.1935 > 0.05  \n",
    "  결과 : 세그룹 모두 0.05보다 큰 p-value로 정규성 가정을 만족한다. \n",
    "  일원분산분석 적용가능하다. "
   ]
  },
  {
   "cell_type": "markdown",
   "id": "868cc09f",
   "metadata": {},
   "source": [
    "- 등분산성 검정 : 레빈 검정 "
   ]
  },
  {
   "cell_type": "code",
   "execution_count": 16,
   "id": "1863e6ec",
   "metadata": {},
   "outputs": [
    {
     "name": "stdout",
     "output_type": "stream",
     "text": [
      "levene_stat: 0.6331383822746123, levene_p_value: 0.5316379878247817\n"
     ]
    }
   ],
   "source": [
    "levene_stat, levene_p_value = stats.levene(A, B, C, center='median')\n",
    "print(f\"levene_stat: {levene_stat}, levene_p_value: {levene_p_value}\")"
   ]
  },
  {
   "cell_type": "markdown",
   "id": "995af2a9",
   "metadata": {},
   "source": [
    "[등분산성 검정 결과 해석]    \n",
    "귀무가설 : 세 그룹의 분산이 동일하다.  \n",
    "대립가설 : 적어도 한 그룹의 분산이 다르다.   \n",
    "판단기준 :  \n",
    " -p-value > 0.05 → 귀무가설 채택 → 등분산성 만족  \n",
    " -p-value < 0.05 → 귀무가설 기각 → 등분산성 불만족  \n",
    "\n",
    "levene_p_value: 0.5316379878247817 > 0.05 이므로 귀무가설 채택.  \n",
    "등분산성 가정을 만족한다. 일원분산분석 적용가능하다."
   ]
  },
  {
   "cell_type": "markdown",
   "id": "f4860b7a",
   "metadata": {},
   "source": [
    "### 4. 가설검정을 수행하고, 결과를 해석하시오. (20점)"
   ]
  },
  {
   "cell_type": "code",
   "execution_count": 17,
   "id": "bf3cccc5",
   "metadata": {},
   "outputs": [
    {
     "name": "stdout",
     "output_type": "stream",
     "text": [
      "F_onewayResult(statistic=np.float64(39.192607237897704), pvalue=np.float64(7.842852500131719e-16))\n"
     ]
    }
   ],
   "source": [
    "print(stats.f_oneway(A, B, C))"
   ]
  },
  {
   "cell_type": "markdown",
   "id": "6c962451",
   "metadata": {},
   "source": [
    "[ANOVA 결과 해석]\n",
    "귀무가설 : 세 그룹의 평균 페이지 로드 시간에 차이가 없다. \n",
    "대립가설 : 적어도 한 그룹의 평균은 다른 그룹과 유의하게 다르다. \n",
    "판단기준 : p-value > 0.05 경우 귀무가설 채택 \n",
    "\n",
    "p-value =  0.000000000000000078428.. 이므로 0.05보다 훨씬 작다.  \n",
    "그러므로 귀무가설을 기각한다.  \n",
    "즉, 세 그룹 중 한곳은 평균 로드시간이 통계적으로 유의하게 다르다.  \n",
    "어느 CDN이 빠른지를 확인하기위해 사후검정이 필요하다.\n"
   ]
  },
  {
   "cell_type": "markdown",
   "id": "3c47533b",
   "metadata": {},
   "source": [
    "### 5. 필요하다면 사후검정도 수행하고 결과를 해석하세요. (20점)"
   ]
  },
  {
   "cell_type": "code",
   "execution_count": 18,
   "id": "8eed7fb6",
   "metadata": {},
   "outputs": [
    {
     "name": "stdout",
     "output_type": "stream",
     "text": [
      "[103.11554292810683, 94.34105952666415, 114.5867394576332, 156.1550173607268, 156.92052384495878, 104.22755673229447, 107.6140682338326, 99.04850248155746, 148.76962225559578, 120.67875774486048, 124.57925527405276, 142.7696207450541, 123.44878790011826, 126.04694769521006, 87.43917094953854, 110.68542361010286, 151.60296437484098, 144.90959694828035, 65.20273208108758, 143.61211363092735, 138.5591281475343, 82.71200803448637, 97.40372429680264, 149.94563510124112, 110.2327374859087, 139.99874869631796, 123.28201942706104, 161.9196384401359, 136.59208341566415, 116.57533356519107, 133.72621373693235, 129.3428211825181, 95.01722972874438, 124.9823771948719, 161.20014267319868, 113.74100829349514, 146.0151175712553, 133.59273662589052, 140.3102873360546, 102.0955106108504, 104.08087761592591, 114.34448089002932, 126.35485691237244, 132.5564134783298, 157.08690748668684, 107.43391692732573, 118.31356885124347, 124.53691918328128, 63.8475098318646, 122.6300952041994, 111.97994337764383, 126.55316528105054, 76.80429909010546, 138.85781431722023, 152.44501932447773, 125.2439825582364, 142.16934892075818, 122.72237081573898, 122.15067989731926, 116.83091143662485, 97.422839174949, 115.8975980059407, 139.88459411864136, 129.59302495648186, 145.71754464571808, 137.88144636626765, 102.16972784328216, 137.11221750017276, 96.47457454816978, 110.21280330458995, 130.66820235104524, 91.83789170584473, 129.43991265218148, 148.96466778849356, 112.53439268629336, 104.47127818471414, 143.33631120743615, 138.96432823447793, 130.31812774424338, 116.36479380841324, 115.93005488548448, 90.84089841762002, 108.55489999108757, 101.019582886956, 107.6585248816832, 119.01754317945064, 123.82522732758846, 115.56841984965128, 116.4730697306324, 155.24531074910593, 129.26808655186375, 92.9957257774269, 120.07498920729378, 119.88178463514556, 120.17259078813105, 100.63689404082469, 107.5696858577967, 128.49746996212068, 94.68157619625622, 168.17757434490483, 102.3424334184838, 118.83513136079098, 104.35972788542146, 90.35787491877969, 75.01377117505133, 93.3702265402229, 83.63933301822465, 80.61561270600815, 121.69747068365652, 118.38633760920796, 92.15225872543746, 82.36896692797873, 97.59887438704423, 87.99230203925195, 92.94944788297374, 79.264148075554, 107.01747819730036, 98.32224654825544, 102.75247169704492, 77.86920407694718, 95.78388966906434, 101.54780904862304, 83.3388055490163, 66.20516887389962, 105.47716684092433, 82.47118154987285, 83.7135346338044, 73.88328540126028, 141.47994133430683, 62.55833577416608, 110.70484403450412, 72.34677685955936, 73.69140231025641, 60.26829617355013, 65.03176690932332, 84.94962260873612, 118.76900827863518, 81.32199433951742, 88.12161770152976, 77.3178912894472, 80.59494229467747, 133.4476795541541, 86.79929150218395, 89.88278683703882, 107.60441756913062, 137.18073591283846, 84.78487455168097, 108.665418511935, 126.41128880731594, 121.5045113731872, 94.33382353669649, 124.67436871021263, 94.26207238753096, 93.51500548294966, 104.85637279085287, 108.37591887288924, 99.30298580484784, 127.86737034638637, 100.3279364213055, 59.623539150790215, 106.09543609603968, 92.53320935620982, 121.6092316536388, 72.98718720311065, 88.19974511772902, 110.83900539492434, 85.96561878653736, 112.29845970142426, 119.55741358643095, 79.47647773611104, 87.15101194012746, 128.13646818841806, 79.90015543980712, 93.33035248397674, 122.65568709174867, 123.12601545822284, 100.13675788923403, 112.57094421970584, 126.19909228151704, 104.7142945048914, 96.39185442658123, 103.01716847152588, 129.23830161583965, 112.10173928680072, 55.73649930632354, 80.19913472826858, 92.79884552313256, 104.541912910224, 65.71346181733159, 82.97984191934283, 120.35496497515167, 83.74262934121234, 51.81249367843528, 125.51690863063686, 100.8249173381497, 86.05216441953642, 106.46789500959322, 109.5457274115332, 109.0663792938378, 80.26923734937539, 98.37183766857711, 86.19335267192513, 79.04786983885147, 63.7302008990146, 116.65548400271244, 96.35332237214963, 130.56068502421851, 106.77832787413185, 130.36795567199184, 121.45702719154004, 146.29850621644877, 111.67860736243044, 103.63886949576045, 90.27090496215196, 148.48521895811382, 87.4204007507489, 133.24062118923428, 119.59144679680958, 94.67465890380598, 112.74393573926554, 113.07718034139108, 148.0912740826086, 95.33522565608476, 97.53754508846863, 126.36324416174824, 107.2756462151194, 122.76470389904247, 87.47395358769502, 113.29872536378863, 77.05080718642182, 76.73599929169544, 96.7208910216681, 104.65919749595804, 93.20882746236464, 106.6926611843432, 113.03004494986628, 118.97587063703112, 111.62350446878288, 124.36181933041368, 130.84661129926667, 118.1772059062634, 78.63504929442209, 79.97362164259958, 84.01828128790793, 100.46464484486634, 88.56120928855599, 66.17920698568224, 103.74464914557912, 104.16296237770348, 117.47329093222734, 128.21083817934257, 133.40658268675284, 134.97334647242266, 94.06536800987864, 102.1405643209173, 130.46936599292664, 136.89577960909415, 108.63938039786824, 121.0269832232508, 111.77867185999064, 90.4080631964794, 143.0931225462116, 120.89185060058148, 136.53786653608142, 118.53912017293412, 120.68447418547672, 120.86616303038116, 93.43104863156124, 111.60402161714, 109.17953805183724, 109.2540319490314, 113.63776231699524, 124.7032609301973, 130.60204937677457, 79.38623461484585, 94.1845160397756, 93.0507871725655, 119.8373807939106, 113.61728230208274, 113.67448289457874, 128.39006882206797, 123.8637711676044, 80.71584764347813, 117.22792861096669, 89.39648494886347, 105.14222957425493, 108.1508787155546, 91.5711650089295, 95.08754911289556, 91.31866739345888, 108.3307164586093, 82.80254862809963, 116.95900797360572, 119.25688177804088, 127.95020675528954, 118.75872721936528, 126.00144865404692, 104.05287111430236, 106.3682550194442, 125.4640650854571]\n",
      "['A', 'A', 'A', 'A', 'A', 'A', 'A', 'A', 'A', 'A', 'A', 'A', 'A', 'A', 'A', 'A', 'A', 'A', 'A', 'A', 'A', 'A', 'A', 'A', 'A', 'A', 'A', 'A', 'A', 'A', 'A', 'A', 'A', 'A', 'A', 'A', 'A', 'A', 'A', 'A', 'A', 'A', 'A', 'A', 'A', 'A', 'A', 'A', 'A', 'A', 'A', 'A', 'A', 'A', 'A', 'A', 'A', 'A', 'A', 'A', 'A', 'A', 'A', 'A', 'A', 'A', 'A', 'A', 'A', 'A', 'A', 'A', 'A', 'A', 'A', 'A', 'A', 'A', 'A', 'A', 'A', 'A', 'A', 'A', 'A', 'A', 'A', 'A', 'A', 'A', 'A', 'A', 'A', 'A', 'A', 'A', 'A', 'A', 'A', 'A', 'B', 'B', 'B', 'B', 'B', 'B', 'B', 'B', 'B', 'B', 'B', 'B', 'B', 'B', 'B', 'B', 'B', 'B', 'B', 'B', 'B', 'B', 'B', 'B', 'B', 'B', 'B', 'B', 'B', 'B', 'B', 'B', 'B', 'B', 'B', 'B', 'B', 'B', 'B', 'B', 'B', 'B', 'B', 'B', 'B', 'B', 'B', 'B', 'B', 'B', 'B', 'B', 'B', 'B', 'B', 'B', 'B', 'B', 'B', 'B', 'B', 'B', 'B', 'B', 'B', 'B', 'B', 'B', 'B', 'B', 'B', 'B', 'B', 'B', 'B', 'B', 'B', 'B', 'B', 'B', 'B', 'B', 'B', 'B', 'B', 'B', 'B', 'B', 'B', 'B', 'B', 'B', 'B', 'B', 'B', 'B', 'B', 'B', 'B', 'B', 'C', 'C', 'C', 'C', 'C', 'C', 'C', 'C', 'C', 'C', 'C', 'C', 'C', 'C', 'C', 'C', 'C', 'C', 'C', 'C', 'C', 'C', 'C', 'C', 'C', 'C', 'C', 'C', 'C', 'C', 'C', 'C', 'C', 'C', 'C', 'C', 'C', 'C', 'C', 'C', 'C', 'C', 'C', 'C', 'C', 'C', 'C', 'C', 'C', 'C', 'C', 'C', 'C', 'C', 'C', 'C', 'C', 'C', 'C', 'C', 'C', 'C', 'C', 'C', 'C', 'C', 'C', 'C', 'C', 'C', 'C', 'C', 'C', 'C', 'C', 'C', 'C', 'C', 'C', 'C', 'C', 'C', 'C', 'C', 'C', 'C', 'C', 'C', 'C', 'C', 'C', 'C', 'C', 'C', 'C', 'C', 'C', 'C', 'C', 'C']\n"
     ]
    }
   ],
   "source": [
    "from statsmodels.stats import multicomp\n",
    "# 분석 대상 데이터 \n",
    "Data = A.tolist() + B.tolist() + C.tolist()\n",
    "# 각 값이 속한 그룹 이름\n",
    "Group = [\"A\"] * len(A) + [\"B\"] * len(B) + [\"C\"] * len(C)\n",
    "\n",
    "print(Data)\n",
    "print(Group)"
   ]
  },
  {
   "cell_type": "code",
   "execution_count": 19,
   "id": "0f093627",
   "metadata": {},
   "outputs": [
    {
     "name": "stdout",
     "output_type": "stream",
     "text": [
      " Multiple Comparison of Means - Tukey HSD, FWER=0.05 \n",
      "=====================================================\n",
      "group1 group2 meandiff p-adj   lower    upper  reject\n",
      "-----------------------------------------------------\n",
      "     A      B -24.8154    0.0 -31.4178 -18.213   True\n",
      "     A      C -12.5563    0.0 -19.1587 -5.9538   True\n",
      "     B      C  12.2591 0.0001   5.6567 18.8616   True\n",
      "-----------------------------------------------------\n"
     ]
    }
   ],
   "source": [
    "# 사후분석\n",
    "print(multicomp.pairwise_tukeyhsd(Data, Group))"
   ]
  },
  {
   "cell_type": "markdown",
   "id": "153eec7a",
   "metadata": {},
   "source": [
    "[Tukey HSD 결과 해석]\n",
    "1) A vs B 유의차이 있음 : A사가 B사보다 약 25ms빠르다.\n",
    "2) A vs C 유의차이 있음 : A사가 C사보다 약 12.6ms 빠르다.\n",
    "1) B vs C 유의차이 있음 : B사가 C사보다 약 12.3ms 느리다. \n",
    "\n",
    "\n"
   ]
  },
  {
   "cell_type": "markdown",
   "id": "a20e13e3",
   "metadata": {},
   "source": [
    "### 최종결론 \n",
    "평균페이지 로드시간 성능 좋은 순서 : A > C > B   \n",
    "그러므로 성능 면에서 가장 우수한 A가 운영팀이 선택할 최적의 후보로 적합하다."
   ]
  },
  {
   "cell_type": "markdown",
   "id": "61bb2518",
   "metadata": {},
   "source": []
  }
 ],
 "metadata": {
  "kernelspec": {
   "display_name": "eda_env",
   "language": "python",
   "name": "python3"
  },
  "language_info": {
   "codemirror_mode": {
    "name": "ipython",
    "version": 3
   },
   "file_extension": ".py",
   "mimetype": "text/x-python",
   "name": "python",
   "nbconvert_exporter": "python",
   "pygments_lexer": "ipython3",
   "version": "3.9.21"
  }
 },
 "nbformat": 4,
 "nbformat_minor": 5
}
